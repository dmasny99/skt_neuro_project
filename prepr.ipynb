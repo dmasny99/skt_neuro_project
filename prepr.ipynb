{
 "cells": [
  {
   "cell_type": "code",
   "execution_count": 1,
   "id": "84b1d69f",
   "metadata": {},
   "outputs": [],
   "source": [
    "import mne\n",
    "import warnings\n",
    "import matplotlib.pyplot as plt\n",
    "import os\n",
    "import numpy as np\n",
    "warnings.filterwarnings('ignore')\n",
    "%matplotlib notebook"
   ]
  },
  {
   "cell_type": "code",
   "execution_count": 2,
   "id": "3dd25a41",
   "metadata": {},
   "outputs": [],
   "source": [
    "def find_common_electrodes(path):\n",
    "    mdd_electrodes_set = []\n",
    "    for elem in os.listdir(path):\n",
    "        data = mne.io.read_raw(path + elem, verbose = False)\n",
    "        mdd_electrodes_set.append(set(data.ch_names))\n",
    "    return set.intersection(*mdd_electrodes_set)"
   ]
  },
  {
   "cell_type": "code",
   "execution_count": 3,
   "id": "fcb62226",
   "metadata": {},
   "outputs": [
    {
     "name": "stdout",
     "output_type": "stream",
     "text": [
      "{'O1', 'C4', 'F8', 'F3', 'T6', 'T4', 'Cz', 'P4', 'Fp2', 'F4', 'Pz', 'T3', 'Fp1', 'Fpz', 'Oz', 'Fz', 'P3', 'O2', 'C3', 'T5', 'F7'}\n"
     ]
    }
   ],
   "source": [
    "kz_mdd = find_common_electrodes('data/kz_clean/mdd/')\n",
    "kz_health = find_common_electrodes('data/kz_clean/health/')\n",
    "electrodes_to_use = set.intersection(kz_mdd, kz_health)\n",
    "print(electrodes_to_use)"
   ]
  },
  {
   "cell_type": "code",
   "execution_count": 4,
   "id": "4a1c829a",
   "metadata": {},
   "outputs": [],
   "source": [
    "Fs = 500\n",
    "electrodes_to_use = set.intersection(kz_mdd, kz_health)\n",
    "window_size = 2 # in seconds"
   ]
  },
  {
   "cell_type": "code",
   "execution_count": 5,
   "id": "790d0a0f",
   "metadata": {},
   "outputs": [],
   "source": [
    "def cut_data(path, path_to_save, window_size = window_size, \n",
    "             window_offset = window_size, \n",
    "             Fs = Fs, electrodes_to_use = electrodes_to_use):\n",
    "    for elem in os.listdir(path):\n",
    "        data = mne.io.read_raw(path + elem, verbose = False)\n",
    "        \n",
    "        for ch in data.ch_names:\n",
    "            if ch not in electrodes_to_use:\n",
    "                data.drop_channels(ch)\n",
    "        print(data._data)\n",
    "#         csv_data = data.to_data_frame()\n",
    "#         csv_data.drop(['time'], axis = 1, inplace = True)\n",
    "        \n",
    "        idx = 1\n",
    "        offset = 0\n",
    "        num_of_samples = Fs * window_size\n",
    "        \n",
    "        print(csv_data.columns)\n",
    "        \n",
    "#         while csv_data.iloc[offset : offset + num_of_samples].shape[0] == num_of_samples:\n",
    "# #             print(csv_data.iloc[offset : offset + num_of_samples].shape)\n",
    "#             name = elem.split('.')[0]\n",
    "# #             print(offset, offset + num_of_samples, name, idx)\n",
    "#             csv_data.to_csv(path_to_save + f'{name}_patch_{idx}.csv')\n",
    "#             offset += window_offset * Fs\n",
    "#             idx += 1"
   ]
  },
  {
   "cell_type": "code",
   "execution_count": null,
   "id": "45f0763e",
   "metadata": {},
   "outputs": [],
   "source": []
  },
  {
   "cell_type": "code",
   "execution_count": null,
   "id": "81912f36",
   "metadata": {},
   "outputs": [],
   "source": []
  },
  {
   "cell_type": "code",
   "execution_count": null,
   "id": "61b496a5",
   "metadata": {},
   "outputs": [],
   "source": []
  }
 ],
 "metadata": {
  "kernelspec": {
   "display_name": "Python 3 (ipykernel)",
   "language": "python",
   "name": "python3"
  },
  "language_info": {
   "codemirror_mode": {
    "name": "ipython",
    "version": 3
   },
   "file_extension": ".py",
   "mimetype": "text/x-python",
   "name": "python",
   "nbconvert_exporter": "python",
   "pygments_lexer": "ipython3",
   "version": "3.9.10"
  }
 },
 "nbformat": 4,
 "nbformat_minor": 5
}
